{
 "cells": [
  {
   "cell_type": "code",
   "execution_count": 92,
   "metadata": {},
   "outputs": [],
   "source": [
    "exchange_rates = {\n",
    "    'Pizza Slice': {'Pizza Slice': 1, 'Wasabi Root': 0.5, 'Snowball': 1.45, 'Shell': .75},\n",
    "    'Wasabi Root': {'Pizza Slice': 1.95, 'Wasabi Root': 1, 'Snowball': 3.1, 'Shell': 1.49},\n",
    "    'Snowball': {'Pizza Slice': 0.67, 'Wasabi Root': .31, 'Snowball': 1, 'Shell': .48},\n",
    "    'Shell': {'Pizza Slice': 1.34, 'Wasabi Root': .64, 'Snowball': 1.98, 'Shell': 1},\n",
    "}\n",
    "currencies = list(exchange_rates.keys())\n",
    "seashells = 2000000\n",
    "max_trades = 5\n",
    "best_sequence = []\n",
    "best_profit = 0\n",
    "def Trader(second,third,fourth,fifth):\n",
    "    starting = seashells\n",
    "    starting *= exchange_rates['Shell'][second]\n",
    "    starting *= exchange_rates[second][third]\n",
    "    starting *= exchange_rates[third][fourth]\n",
    "    starting *= exchange_rates[fourth][fifth]\n",
    "    ending = starting * exchange_rates[fifth]['Shell']\n",
    "    return ending\n",
    "for second in currencies:\n",
    "    for third in currencies:\n",
    "        for fourth in currencies:\n",
    "            for fifth in currencies:\n",
    "                profit = Trader(second,third,fourth,fifth)\n",
    "                if profit > best_profit:\n",
    "                    best_profit = profit\n",
    "                    best_sequence = [second,third,fourth,fifth]"
   ]
  },
  {
   "cell_type": "code",
   "execution_count": 93,
   "metadata": {},
   "outputs": [
    {
     "data": {
      "text/plain": [
       "['Pizza Slice', 'Wasabi Root', 'Snowball', 'Pizza Slice']"
      ]
     },
     "execution_count": 93,
     "metadata": {},
     "output_type": "execute_result"
    }
   ],
   "source": [
    "best_sequence"
   ]
  },
  {
   "cell_type": "code",
   "execution_count": 94,
   "metadata": {},
   "outputs": [
    {
     "data": {
      "text/plain": [
       "2087385.0"
      ]
     },
     "execution_count": 94,
     "metadata": {},
     "output_type": "execute_result"
    }
   ],
   "source": [
    "best_profit"
   ]
  },
  {
   "cell_type": "code",
   "execution_count": null,
   "metadata": {},
   "outputs": [],
   "source": []
  }
 ],
 "metadata": {
  "kernelspec": {
   "display_name": "Python 3",
   "language": "python",
   "name": "python3"
  },
  "language_info": {
   "codemirror_mode": {
    "name": "ipython",
    "version": 3
   },
   "file_extension": ".py",
   "mimetype": "text/x-python",
   "name": "python",
   "nbconvert_exporter": "python",
   "pygments_lexer": "ipython3",
   "version": "3.9.5"
  },
  "orig_nbformat": 4,
  "vscode": {
   "interpreter": {
    "hash": "aee8b7b246df8f9039afb4144a1f6fd8d2ca17a180786b69acc140d282b71a49"
   }
  }
 },
 "nbformat": 4,
 "nbformat_minor": 2
}
